{
 "cells": [
  {
   "cell_type": "code",
   "execution_count": 1,
   "metadata": {},
   "outputs": [],
   "source": [
    "import numpy as np \n",
    "import pandas as pd"
   ]
  },
  {
   "cell_type": "code",
   "execution_count": 4,
   "metadata": {},
   "outputs": [
    {
     "data": {
      "text/html": [
       "<div>\n",
       "<style scoped>\n",
       "    .dataframe tbody tr th:only-of-type {\n",
       "        vertical-align: middle;\n",
       "    }\n",
       "\n",
       "    .dataframe tbody tr th {\n",
       "        vertical-align: top;\n",
       "    }\n",
       "\n",
       "    .dataframe thead th {\n",
       "        text-align: right;\n",
       "    }\n",
       "</style>\n",
       "<table border=\"1\" class=\"dataframe\">\n",
       "  <thead>\n",
       "    <tr style=\"text-align: right;\">\n",
       "      <th></th>\n",
       "      <th>PassengerId</th>\n",
       "      <th>Survived</th>\n",
       "      <th>Pclass</th>\n",
       "      <th>Name</th>\n",
       "      <th>Sex</th>\n",
       "      <th>Age</th>\n",
       "      <th>SibSp</th>\n",
       "      <th>Parch</th>\n",
       "      <th>Ticket</th>\n",
       "      <th>Fare</th>\n",
       "      <th>Cabin</th>\n",
       "      <th>Embarked</th>\n",
       "    </tr>\n",
       "  </thead>\n",
       "  <tbody>\n",
       "    <tr>\n",
       "      <th>0</th>\n",
       "      <td>1</td>\n",
       "      <td>0</td>\n",
       "      <td>3</td>\n",
       "      <td>Braund, Mr. Owen Harris</td>\n",
       "      <td>male</td>\n",
       "      <td>22.0</td>\n",
       "      <td>1</td>\n",
       "      <td>0</td>\n",
       "      <td>A/5 21171</td>\n",
       "      <td>7.2500</td>\n",
       "      <td>NaN</td>\n",
       "      <td>S</td>\n",
       "    </tr>\n",
       "    <tr>\n",
       "      <th>1</th>\n",
       "      <td>2</td>\n",
       "      <td>1</td>\n",
       "      <td>1</td>\n",
       "      <td>Cumings, Mrs. John Bradley (Florence Briggs Th...</td>\n",
       "      <td>female</td>\n",
       "      <td>38.0</td>\n",
       "      <td>1</td>\n",
       "      <td>0</td>\n",
       "      <td>PC 17599</td>\n",
       "      <td>71.2833</td>\n",
       "      <td>C85</td>\n",
       "      <td>C</td>\n",
       "    </tr>\n",
       "    <tr>\n",
       "      <th>2</th>\n",
       "      <td>3</td>\n",
       "      <td>1</td>\n",
       "      <td>3</td>\n",
       "      <td>Heikkinen, Miss. Laina</td>\n",
       "      <td>female</td>\n",
       "      <td>26.0</td>\n",
       "      <td>0</td>\n",
       "      <td>0</td>\n",
       "      <td>STON/O2. 3101282</td>\n",
       "      <td>7.9250</td>\n",
       "      <td>NaN</td>\n",
       "      <td>S</td>\n",
       "    </tr>\n",
       "    <tr>\n",
       "      <th>3</th>\n",
       "      <td>4</td>\n",
       "      <td>1</td>\n",
       "      <td>1</td>\n",
       "      <td>Futrelle, Mrs. Jacques Heath (Lily May Peel)</td>\n",
       "      <td>female</td>\n",
       "      <td>35.0</td>\n",
       "      <td>1</td>\n",
       "      <td>0</td>\n",
       "      <td>113803</td>\n",
       "      <td>53.1000</td>\n",
       "      <td>C123</td>\n",
       "      <td>S</td>\n",
       "    </tr>\n",
       "    <tr>\n",
       "      <th>4</th>\n",
       "      <td>5</td>\n",
       "      <td>0</td>\n",
       "      <td>3</td>\n",
       "      <td>Allen, Mr. William Henry</td>\n",
       "      <td>male</td>\n",
       "      <td>35.0</td>\n",
       "      <td>0</td>\n",
       "      <td>0</td>\n",
       "      <td>373450</td>\n",
       "      <td>8.0500</td>\n",
       "      <td>NaN</td>\n",
       "      <td>S</td>\n",
       "    </tr>\n",
       "  </tbody>\n",
       "</table>\n",
       "</div>"
      ],
      "text/plain": [
       "   PassengerId  Survived  Pclass  \\\n",
       "0            1         0       3   \n",
       "1            2         1       1   \n",
       "2            3         1       3   \n",
       "3            4         1       1   \n",
       "4            5         0       3   \n",
       "\n",
       "                                                Name     Sex   Age  SibSp  \\\n",
       "0                            Braund, Mr. Owen Harris    male  22.0      1   \n",
       "1  Cumings, Mrs. John Bradley (Florence Briggs Th...  female  38.0      1   \n",
       "2                             Heikkinen, Miss. Laina  female  26.0      0   \n",
       "3       Futrelle, Mrs. Jacques Heath (Lily May Peel)  female  35.0      1   \n",
       "4                           Allen, Mr. William Henry    male  35.0      0   \n",
       "\n",
       "   Parch            Ticket     Fare Cabin Embarked  \n",
       "0      0         A/5 21171   7.2500   NaN        S  \n",
       "1      0          PC 17599  71.2833   C85        C  \n",
       "2      0  STON/O2. 3101282   7.9250   NaN        S  \n",
       "3      0            113803  53.1000  C123        S  \n",
       "4      0            373450   8.0500   NaN        S  "
      ]
     },
     "execution_count": 4,
     "metadata": {},
     "output_type": "execute_result"
    }
   ],
   "source": [
    "titanic_data = pd.read_csv(\"Titanic Dataset.csv\")\n",
    "titanic_data.head()"
   ]
  },
  {
   "cell_type": "code",
   "execution_count": 5,
   "metadata": {},
   "outputs": [
    {
     "data": {
      "text/plain": [
       "(891, 12)"
      ]
     },
     "execution_count": 5,
     "metadata": {},
     "output_type": "execute_result"
    }
   ],
   "source": [
    "titanic_data.shape"
   ]
  },
  {
   "cell_type": "markdown",
   "metadata": {
    "papermill": {
     "duration": 0.014313,
     "end_time": "2020-09-02T03:21:48.906276",
     "exception": false,
     "start_time": "2020-09-02T03:21:48.891963",
     "status": "completed"
    },
    "tags": []
   },
   "source": [
    "# Machine Learning Algorithms"
   ]
  },
  {
   "cell_type": "markdown",
   "metadata": {
    "papermill": {
     "duration": 0.014214,
     "end_time": "2020-09-02T03:21:48.935112",
     "exception": false,
     "start_time": "2020-09-02T03:21:48.920898",
     "status": "completed"
    },
    "tags": []
   },
   "source": [
    "### Logistic Regression"
   ]
  },
  {
   "cell_type": "code",
   "execution_count": 7,
   "metadata": {
    "execution": {
     "iopub.execute_input": "2020-09-02T03:21:48.979893Z",
     "iopub.status.busy": "2020-09-02T03:21:48.979262Z",
     "iopub.status.idle": "2020-09-02T03:21:50.209424Z",
     "shell.execute_reply": "2020-09-02T03:21:50.210040Z"
    },
    "papermill": {
     "duration": 1.260619,
     "end_time": "2020-09-02T03:21:50.210217",
     "exception": false,
     "start_time": "2020-09-02T03:21:48.949598",
     "status": "completed"
    },
    "tags": []
   },
   "outputs": [
    {
     "name": "stdout",
     "output_type": "stream",
     "text": [
      "accuracy_score =  0.7777777777777778\n",
      "confusion_matrix = \n",
      " [[45  8]\n",
      " [12 25]]\n",
      "classification_report = \n",
      "               precision    recall  f1-score   support\n",
      "\n",
      "           0       0.79      0.85      0.82        53\n",
      "           1       0.76      0.68      0.71        37\n",
      "\n",
      "    accuracy                           0.78        90\n",
      "   macro avg       0.77      0.76      0.77        90\n",
      "weighted avg       0.78      0.78      0.78        90\n",
      "\n"
     ]
    },
    {
     "name": "stderr",
     "output_type": "stream",
     "text": [
      "C:\\Users\\Testbook\\AppData\\Local\\Packages\\PythonSoftwareFoundation.Python.3.8_qbz5n2kfra8p0\\LocalCache\\local-packages\\Python38\\site-packages\\sklearn\\linear_model\\_logistic.py:444: ConvergenceWarning: lbfgs failed to converge (status=1):\n",
      "STOP: TOTAL NO. of ITERATIONS REACHED LIMIT.\n",
      "\n",
      "Increase the number of iterations (max_iter) or scale the data as shown in:\n",
      "    https://scikit-learn.org/stable/modules/preprocessing.html\n",
      "Please also refer to the documentation for alternative solver options:\n",
      "    https://scikit-learn.org/stable/modules/linear_model.html#logistic-regression\n",
      "  n_iter_i = _check_optimize_result(\n"
     ]
    }
   ],
   "source": [
    "# Data Preparation\n",
    "from sklearn.model_selection import train_test_split\n",
    "from sklearn.linear_model import LogisticRegression\n",
    "from sklearn.metrics import classification_report\n",
    "from sklearn.metrics import confusion_matrix,accuracy_score\n",
    "from sklearn.impute import SimpleImputer\n",
    "from sklearn.preprocessing import MinMaxScaler\n",
    "cols = ['Pclass','Sex','Age','SibSp','Parch','Fare','Embarked']\n",
    "scaler = MinMaxScaler()\n",
    "X = titanic_data[cols]\n",
    "y = titanic_data['Survived']\n",
    "en_data = pd.get_dummies(X)\n",
    "\n",
    "my_imputer = SimpleImputer()\n",
    "imp_data = my_imputer.fit_transform(en_data)\n",
    "\n",
    "x_train, x_test, y_train, y_test = train_test_split(imp_data, y, test_size=0.10, random_state=1)\n",
    "logmodel = LogisticRegression()\n",
    "logmodel.fit(x_train, y_train)\n",
    "\n",
    "predictions = logmodel.predict(x_test)\n",
    "\n",
    "print(\"accuracy_score = \",accuracy_score(y_test, predictions))\n",
    "print(\"confusion_matrix = \\n\",confusion_matrix(y_test, predictions))\n",
    "print(\"classification_report = \\n\",classification_report(y_test, predictions))"
   ]
  },
  {
   "cell_type": "markdown",
   "metadata": {
    "papermill": {
     "duration": 0.015331,
     "end_time": "2020-09-02T03:21:50.348492",
     "exception": false,
     "start_time": "2020-09-02T03:21:50.333161",
     "status": "completed"
    },
    "tags": []
   },
   "source": [
    "### Decision Tree"
   ]
  },
  {
   "cell_type": "code",
   "execution_count": 8,
   "metadata": {
    "execution": {
     "iopub.execute_input": "2020-09-02T03:21:50.385965Z",
     "iopub.status.busy": "2020-09-02T03:21:50.385274Z",
     "iopub.status.idle": "2020-09-02T03:21:50.423300Z",
     "shell.execute_reply": "2020-09-02T03:21:50.422710Z"
    },
    "papermill": {
     "duration": 0.059678,
     "end_time": "2020-09-02T03:21:50.423426",
     "exception": false,
     "start_time": "2020-09-02T03:21:50.363748",
     "status": "completed"
    },
    "tags": []
   },
   "outputs": [
    {
     "name": "stdout",
     "output_type": "stream",
     "text": [
      "accuracy_score =  0.7333333333333333\n",
      "confusion_matrix = \n",
      " [[44  9]\n",
      " [15 22]]\n",
      "classification_report = \n",
      "               precision    recall  f1-score   support\n",
      "\n",
      "           0       0.75      0.83      0.79        53\n",
      "           1       0.71      0.59      0.65        37\n",
      "\n",
      "    accuracy                           0.73        90\n",
      "   macro avg       0.73      0.71      0.72        90\n",
      "weighted avg       0.73      0.73      0.73        90\n",
      "\n"
     ]
    }
   ],
   "source": [
    "from sklearn.tree import DecisionTreeClassifier\n",
    "clf = DecisionTreeClassifier()\n",
    "clf = clf.fit(x_train, y_train)\n",
    "predictions = clf.predict(x_test)\n",
    "\n",
    "print(\"accuracy_score = \",accuracy_score(y_test, predictions))\n",
    "print(\"confusion_matrix = \\n\",confusion_matrix(y_test, predictions))\n",
    "print(\"classification_report = \\n\",classification_report(y_test, predictions))"
   ]
  },
  {
   "cell_type": "markdown",
   "metadata": {
    "papermill": {
     "duration": 0.014605,
     "end_time": "2020-09-02T03:21:50.453289",
     "exception": false,
     "start_time": "2020-09-02T03:21:50.438684",
     "status": "completed"
    },
    "tags": []
   },
   "source": [
    "### Random Forest Classifier"
   ]
  },
  {
   "cell_type": "code",
   "execution_count": 10,
   "metadata": {
    "execution": {
     "iopub.execute_input": "2020-09-02T03:21:50.489739Z",
     "iopub.status.busy": "2020-09-02T03:21:50.489112Z",
     "iopub.status.idle": "2020-09-02T03:21:50.812704Z",
     "shell.execute_reply": "2020-09-02T03:21:50.812029Z"
    },
    "papermill": {
     "duration": 0.344093,
     "end_time": "2020-09-02T03:21:50.812845",
     "exception": false,
     "start_time": "2020-09-02T03:21:50.468752",
     "status": "completed"
    },
    "tags": []
   },
   "outputs": [
    {
     "name": "stdout",
     "output_type": "stream",
     "text": [
      "accuracy_score =  0.7666666666666667\n",
      "confusion_matrix = \n",
      " [[45  8]\n",
      " [13 24]]\n",
      "classification_report = \n",
      "               precision    recall  f1-score   support\n",
      "\n",
      "           0       0.78      0.85      0.81        53\n",
      "           1       0.75      0.65      0.70        37\n",
      "\n",
      "    accuracy                           0.77        90\n",
      "   macro avg       0.76      0.75      0.75        90\n",
      "weighted avg       0.77      0.77      0.76        90\n",
      "\n"
     ]
    }
   ],
   "source": [
    "from sklearn.ensemble import RandomForestClassifier\n",
    "\n",
    "\n",
    "rfc=RandomForestClassifier(n_estimators=100)\n",
    "rfc.fit(x_train,y_train)\n",
    "\n",
    "predictions = rfc.predict(x_test)\n",
    "\n",
    "print(\"accuracy_score = \",accuracy_score(y_test, predictions))\n",
    "print(\"confusion_matrix = \\n\",confusion_matrix(y_test, predictions))\n",
    "print(\"classification_report = \\n\",classification_report(y_test, predictions))\n"
   ]
  },
  {
   "cell_type": "markdown",
   "metadata": {},
   "source": [
    "From Above we can conclude that Logistic Regression is the Best Model for the Data , Having Accuracy of  0.7777777777777778"
   ]
  }
 ],
 "metadata": {
  "kernelspec": {
   "display_name": "Python 3.8.10 64-bit (microsoft store)",
   "language": "python",
   "name": "python3"
  },
  "language_info": {
   "codemirror_mode": {
    "name": "ipython",
    "version": 3
   },
   "file_extension": ".py",
   "mimetype": "text/x-python",
   "name": "python",
   "nbconvert_exporter": "python",
   "pygments_lexer": "ipython3",
   "version": "3.8.10"
  },
  "papermill": {
   "duration": 11.415877,
   "end_time": "2020-09-02T03:21:51.771285",
   "environment_variables": {},
   "exception": null,
   "input_path": "__notebook__.ipynb",
   "output_path": "__notebook__.ipynb",
   "parameters": {},
   "start_time": "2020-09-02T03:21:40.355408",
   "version": "2.1.0"
  },
  "vscode": {
   "interpreter": {
    "hash": "d8f38a65f95ae979fba470ab93511c61f11d2b36188dbafc11a6a501c4e93194"
   }
  }
 },
 "nbformat": 4,
 "nbformat_minor": 4
}
